{
 "cells": [
  {
   "cell_type": "code",
   "execution_count": 1,
   "metadata": {},
   "outputs": [],
   "source": [
    "import torch"
   ]
  },
  {
   "cell_type": "code",
   "execution_count": 3,
   "metadata": {},
   "outputs": [
    {
     "name": "stdout",
     "output_type": "stream",
     "text": [
      "tensor([[8.4490e-39, 9.2755e-39, 1.0469e-38],\n",
      "        [9.6429e-39, 9.4592e-39, 7.3470e-39],\n",
      "        [7.7144e-39, 1.0469e-38, 9.5510e-39],\n",
      "        [9.9184e-39, 9.0000e-39, 9.0000e-39],\n",
      "        [1.0561e-38, 9.0919e-39, 4.2246e-39]])\n"
     ]
    }
   ],
   "source": [
    "x = torch.empty(5,3)\n",
    "print(x)"
   ]
  },
  {
   "cell_type": "code",
   "execution_count": 4,
   "metadata": {},
   "outputs": [
    {
     "name": "stdout",
     "output_type": "stream",
     "text": [
      "tensor([[0.0971, 0.5681, 0.8474],\n",
      "        [0.0532, 0.2821, 0.1098],\n",
      "        [0.2145, 0.1734, 0.2764],\n",
      "        [0.6890, 0.0035, 0.1905],\n",
      "        [0.6222, 0.4026, 0.8408]])\n"
     ]
    }
   ],
   "source": [
    "x = torch.rand(5,3)\n",
    "print(x)"
   ]
  },
  {
   "cell_type": "code",
   "execution_count": 9,
   "metadata": {},
   "outputs": [
    {
     "name": "stdout",
     "output_type": "stream",
     "text": [
      "tensor([[0, 0, 0],\n",
      "        [0, 0, 0],\n",
      "        [0, 0, 0],\n",
      "        [0, 0, 0],\n",
      "        [0, 0, 0]])\n",
      "torch.Size([5, 3])\n"
     ]
    }
   ],
   "source": [
    "x = torch.zeros(5,3, dtype=torch.long)\n",
    "print(x)\n",
    "print(x.size())"
   ]
  },
  {
   "cell_type": "code",
   "execution_count": 7,
   "metadata": {},
   "outputs": [
    {
     "name": "stdout",
     "output_type": "stream",
     "text": [
      "tensor([5.4000, 3.0000])\n"
     ]
    }
   ],
   "source": [
    "x = torch.tensor([5.4, 3])\n",
    "print(x)"
   ]
  },
  {
   "cell_type": "code",
   "execution_count": 8,
   "metadata": {},
   "outputs": [
    {
     "data": {
      "text/plain": [
       "torch.Size([2])"
      ]
     },
     "execution_count": 8,
     "metadata": {},
     "output_type": "execute_result"
    }
   ],
   "source": [
    "x.size()"
   ]
  },
  {
   "cell_type": "code",
   "execution_count": 10,
   "metadata": {},
   "outputs": [
    {
     "name": "stdout",
     "output_type": "stream",
     "text": [
      "tensor([[0.1251, 0.7001, 0.2685],\n",
      "        [0.0208, 0.5867, 0.9013],\n",
      "        [0.0727, 0.0958, 0.2670],\n",
      "        [0.5793, 0.7869, 0.7062],\n",
      "        [0.1376, 0.2242, 0.1378]])\n",
      "tensor([[0.4237, 1.4195, 1.2113],\n",
      "        [0.2986, 0.6089, 1.1858],\n",
      "        [1.0644, 0.5065, 0.7625],\n",
      "        [0.8223, 0.8190, 0.7949],\n",
      "        [0.1999, 0.2539, 0.7678]])\n"
     ]
    }
   ],
   "source": [
    "# Operations\n",
    "x = torch.rand(5,3)\n",
    "print(x)\n",
    "y = torch.rand(5,3)\n",
    "print(x+y)"
   ]
  },
  {
   "cell_type": "code",
   "execution_count": 11,
   "metadata": {},
   "outputs": [
    {
     "name": "stdout",
     "output_type": "stream",
     "text": [
      "tensor([[0.4237, 1.4195, 1.2113],\n",
      "        [0.2986, 0.6089, 1.1858],\n",
      "        [1.0644, 0.5065, 0.7625],\n",
      "        [0.8223, 0.8190, 0.7949],\n",
      "        [0.1999, 0.2539, 0.7678]])\n"
     ]
    }
   ],
   "source": [
    "print(torch.add(x, y))"
   ]
  },
  {
   "cell_type": "code",
   "execution_count": 18,
   "metadata": {},
   "outputs": [
    {
     "name": "stdout",
     "output_type": "stream",
     "text": [
      "tensor([[0.5488, 2.1196, 1.4799],\n",
      "        [0.3194, 1.1957, 2.0871],\n",
      "        [1.1371, 0.6023, 1.0295],\n",
      "        [1.4015, 1.6059, 1.5011],\n",
      "        [0.3375, 0.4782, 0.9056]])\n",
      "tensor([[0.5488, 2.1196, 1.4799],\n",
      "        [0.3194, 1.1957, 2.0871],\n",
      "        [1.1371, 0.6023, 1.0295],\n",
      "        [1.4015, 1.6059, 1.5011],\n",
      "        [0.3375, 0.4782, 0.9056]])\n"
     ]
    }
   ],
   "source": [
    "results =torch.empty(5,3)\n",
    "r=torch.add(x, y, out=results)\n",
    "print(results)\n",
    "print(r)"
   ]
  },
  {
   "cell_type": "code",
   "execution_count": 16,
   "metadata": {},
   "outputs": [
    {
     "data": {
      "text/plain": [
       "tensor([[0.4237, 1.4195, 1.2113],\n",
       "        [0.2986, 0.6089, 1.1858],\n",
       "        [1.0644, 0.5065, 0.7625],\n",
       "        [0.8223, 0.8190, 0.7949],\n",
       "        [0.1999, 0.2539, 0.7678]])"
      ]
     },
     "execution_count": 16,
     "metadata": {},
     "output_type": "execute_result"
    }
   ],
   "source": [
    "y.add_(x)"
   ]
  },
  {
   "cell_type": "code",
   "execution_count": 19,
   "metadata": {},
   "outputs": [
    {
     "name": "stdout",
     "output_type": "stream",
     "text": [
      "tensor([0.7001, 0.5867, 0.0958, 0.7869, 0.2242])\n"
     ]
    }
   ],
   "source": [
    "print(x[:,1])"
   ]
  },
  {
   "cell_type": "code",
   "execution_count": 21,
   "metadata": {},
   "outputs": [
    {
     "name": "stdout",
     "output_type": "stream",
     "text": [
      "tensor([[0.1251, 0.7001, 0.2685],\n",
      "        [0.0208, 0.5867, 0.9013],\n",
      "        [0.0727, 0.0958, 0.2670],\n",
      "        [0.5793, 0.7869, 0.7062],\n",
      "        [0.1376, 0.2242, 0.1378]])\n"
     ]
    },
    {
     "data": {
      "text/plain": [
       "tensor([0.1251, 0.7001, 0.2685, 0.0208, 0.5867, 0.9013, 0.0727, 0.0958, 0.2670,\n",
       "        0.5793, 0.7869, 0.7062, 0.1376, 0.2242, 0.1378])"
      ]
     },
     "execution_count": 21,
     "metadata": {},
     "output_type": "execute_result"
    }
   ],
   "source": [
    "print(x)\n",
    "x.view(15)"
   ]
  },
  {
   "cell_type": "code",
   "execution_count": 22,
   "metadata": {},
   "outputs": [
    {
     "data": {
      "text/plain": [
       "tensor([[0.1251, 0.7001, 0.2685, 0.0208, 0.5867],\n",
       "        [0.9013, 0.0727, 0.0958, 0.2670, 0.5793],\n",
       "        [0.7869, 0.7062, 0.1376, 0.2242, 0.1378]])"
      ]
     },
     "execution_count": 22,
     "metadata": {},
     "output_type": "execute_result"
    }
   ],
   "source": [
    "x.view(3,5)"
   ]
  },
  {
   "cell_type": "code",
   "execution_count": 23,
   "metadata": {},
   "outputs": [
    {
     "data": {
      "text/plain": [
       "tensor([[0.1251, 0.7001, 0.2685, 0.0208, 0.5867],\n",
       "        [0.9013, 0.0727, 0.0958, 0.2670, 0.5793],\n",
       "        [0.7869, 0.7062, 0.1376, 0.2242, 0.1378]])"
      ]
     },
     "execution_count": 23,
     "metadata": {},
     "output_type": "execute_result"
    }
   ],
   "source": [
    "x.view(-1,5)"
   ]
  },
  {
   "cell_type": "code",
   "execution_count": 27,
   "metadata": {},
   "outputs": [
    {
     "data": {
      "text/plain": [
       "0.12509870529174805"
      ]
     },
     "execution_count": 27,
     "metadata": {},
     "output_type": "execute_result"
    }
   ],
   "source": [
    "x[0,0].item()"
   ]
  },
  {
   "cell_type": "code",
   "execution_count": 9,
   "metadata": {},
   "outputs": [
    {
     "data": {
      "text/plain": [
       "tensor([[0.9071, 0.3202],\n",
       "        [0.3807, 0.8470],\n",
       "        [0.7132, 0.5341],\n",
       "        [0.9337, 0.0098],\n",
       "        [0.7534, 0.7273]], dtype=torch.float64)"
      ]
     },
     "execution_count": 9,
     "metadata": {},
     "output_type": "execute_result"
    }
   ],
   "source": [
    "import numpy as np\n",
    "array = np.random.rand(5,2)\n",
    "b = torch.from_numpy(array)\n",
    "b"
   ]
  },
  {
   "cell_type": "code",
   "execution_count": 11,
   "metadata": {},
   "outputs": [
    {
     "name": "stdout",
     "output_type": "stream",
     "text": [
      "False\n"
     ]
    }
   ],
   "source": [
    "print(torch.cuda.is_available())"
   ]
  },
  {
   "cell_type": "code",
   "execution_count": 3,
   "metadata": {},
   "outputs": [
    {
     "name": "stdout",
     "output_type": "stream",
     "text": [
      "tensor([[3., 3.],\n",
      "        [3., 3.]], grad_fn=<AddBackward0>)\n"
     ]
    }
   ],
   "source": [
    "# compute differentiation of function \n",
    "import torch\n",
    "x = torch.ones(2,2, requires_grad=True)\n",
    "y = x + 2\n",
    "print(y)"
   ]
  },
  {
   "cell_type": "code",
   "execution_count": 4,
   "metadata": {},
   "outputs": [
    {
     "name": "stdout",
     "output_type": "stream",
     "text": [
      "<AddBackward0 object at 0x0000023222BA0BC8>\n"
     ]
    }
   ],
   "source": [
    "print(y.grad_fn)"
   ]
  },
  {
   "cell_type": "code",
   "execution_count": null,
   "metadata": {},
   "outputs": [],
   "source": [
    "z = y*y *3\n",
    "out = zmean()"
   ]
  }
 ],
 "metadata": {
  "kernelspec": {
   "display_name": "Python 3",
   "language": "python",
   "name": "python3"
  },
  "language_info": {
   "codemirror_mode": {
    "name": "ipython",
    "version": 3
   },
   "file_extension": ".py",
   "mimetype": "text/x-python",
   "name": "python",
   "nbconvert_exporter": "python",
   "pygments_lexer": "ipython3",
   "version": "3.7.6"
  }
 },
 "nbformat": 4,
 "nbformat_minor": 4
}
